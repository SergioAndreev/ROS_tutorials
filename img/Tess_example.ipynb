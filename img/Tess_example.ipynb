{
 "cells": [
  {
   "cell_type": "code",
   "execution_count": 63,
   "metadata": {},
   "outputs": [],
   "source": [
    "import pytesseract\n",
    "import sys\n",
    "import os\n",
    "import glob\n",
    "from matplotlib import pyplot as plt\n",
    "from matplotlib import image as mpimg\n",
    "import tqdm"
   ]
  },
  {
   "cell_type": "code",
   "execution_count": 5,
   "metadata": {},
   "outputs": [],
   "source": [
    "path = './train_sample'"
   ]
  },
  {
   "cell_type": "code",
   "execution_count": 14,
   "metadata": {},
   "outputs": [
    {
     "name": "stdout",
     "output_type": "stream",
     "text": [
      "train_sample/npa\n"
     ]
    }
   ],
   "source": [
    "paths = os.listdir(path)\n",
    "tz = os.path.join(path,paths[0])\n",
    "npa = os.path.join(path,paths[1])"
   ]
  },
  {
   "cell_type": "code",
   "execution_count": 23,
   "metadata": {},
   "outputs": [
    {
     "name": "stdout",
     "output_type": "stream",
     "text": [
      "['train_sample/tz/0093.jpg', 'train_sample/tz/0115.jpg', 'train_sample/tz/0541.jpg', 'train_sample/tz/0137.jpg', 'train_sample/tz/0526.jpg', 'train_sample/tz/0264.jpg', 'train_sample/tz/0344.jpg', 'train_sample/tz/0008.jpg', 'train_sample/tz/0485.jpg', 'train_sample/tz/0043.jpg', 'train_sample/tz/0503.jpg', 'train_sample/tz/0263.jpg', 'train_sample/tz/0380.jpg', 'train_sample/tz/0326.jpg', 'train_sample/tz/0571.jpg', 'train_sample/tz/0100.jpg', 'train_sample/tz/0576.jpg', 'train_sample/tz/0291.jpg', 'train_sample/tz/0440.jpg', 'train_sample/tz/0164.jpg', 'train_sample/tz/0528.jpg', 'train_sample/tz/0026.jpg', 'train_sample/tz/0267.jpg', 'train_sample/tz/0336.jpg', 'train_sample/tz/0092.jpg', 'train_sample/tz/0138.jpg', 'train_sample/tz/0416.jpg', 'train_sample/tz/0132.jpg', 'train_sample/tz/0296.jpg', 'train_sample/tz/0083.jpg', 'train_sample/tz/0281.jpg', 'train_sample/tz/0471.jpg', 'train_sample/tz/0298.jpg', 'train_sample/tz/0493.jpg', 'train_sample/tz/0113.jpg', 'train_sample/tz/0054.jpg', 'train_sample/tz/0453.jpg', 'train_sample/tz/0532.jpg', 'train_sample/tz/0593.jpg', 'train_sample/tz/0287.jpg', 'train_sample/tz/0539.jpg', 'train_sample/tz/0172.jpg', 'train_sample/tz/0398.jpg', 'train_sample/tz/0078.jpg', 'train_sample/tz/0215.jpg', 'train_sample/tz/0283.jpg', 'train_sample/tz/0282.jpg', 'train_sample/tz/0136.jpg', 'train_sample/tz/0328.jpg', 'train_sample/tz/0502.jpg', 'train_sample/tz/0552.jpg', 'train_sample/tz/0064.jpg', 'train_sample/tz/0339.jpg', 'train_sample/tz/0537.jpg', 'train_sample/tz/0390.jpg', 'train_sample/tz/0325.jpg', 'train_sample/tz/0427.jpg', 'train_sample/tz/0426.jpg', 'train_sample/tz/0155.jpg', 'train_sample/tz/0461.jpg', 'train_sample/tz/0443.jpg', 'train_sample/tz/0509.jpg', 'train_sample/tz/0542.jpg', 'train_sample/tz/0550.jpg', 'train_sample/tz/0290.jpg', 'train_sample/tz/0515.jpg', 'train_sample/tz/0261.jpg', 'train_sample/tz/0342.jpg', 'train_sample/tz/0169.jpg', 'train_sample/tz/0570.jpg', 'train_sample/tz/0379.jpg', 'train_sample/tz/0411.jpg', 'train_sample/tz/0595.jpg', 'train_sample/tz/0210.jpg', 'train_sample/tz/0335.jpg', 'train_sample/tz/0161.jpg', 'train_sample/tz/0197.jpg', 'train_sample/tz/0510.jpg', 'train_sample/tz/0098.jpg', 'train_sample/tz/0543.jpg', 'train_sample/tz/0084.jpg', 'train_sample/tz/0219.jpg', 'train_sample/tz/0555.jpg', 'train_sample/tz/0187.jpg', 'train_sample/tz/0114.jpg', 'train_sample/tz/0389.jpg', 'train_sample/tz/0429.jpg', 'train_sample/tz/0321.jpg', 'train_sample/tz/0580.jpg', 'train_sample/tz/0556.jpg', 'train_sample/tz/0352.jpg', 'train_sample/tz/0247.jpg', 'train_sample/tz/0157.jpg', 'train_sample/tz/0399.jpg', 'train_sample/tz/0053.jpg', 'train_sample/tz/0567.jpg', 'train_sample/tz/0585.jpg', 'train_sample/tz/0451.jpg', 'train_sample/tz/0544.jpg', 'train_sample/tz/0067.jpg', 'train_sample/tz/0561.jpg', 'train_sample/tz/0103.jpg', 'train_sample/tz/0573.jpg', 'train_sample/tz/0152.jpg', 'train_sample/tz/0463.jpg', 'train_sample/tz/0260.jpg', 'train_sample/tz/0080.jpg', 'train_sample/tz/0032.jpg', 'train_sample/tz/0496.jpg', 'train_sample/tz/0243.jpg', 'train_sample/tz/0473.jpg', 'train_sample/tz/0308.jpg', 'train_sample/tz/0017.jpg', 'train_sample/tz/0239.jpg', 'train_sample/tz/0171.jpg', 'train_sample/tz/0235.jpg', 'train_sample/tz/0589.jpg', 'train_sample/tz/0035.jpg', 'train_sample/tz/0228.jpg', 'train_sample/tz/0581.jpg', 'train_sample/tz/0402.jpg', 'train_sample/tz/0540.jpg', 'train_sample/tz/0449.jpg', 'train_sample/tz/0005.jpg', 'train_sample/tz/0055.jpg', 'train_sample/tz/0332.jpg', 'train_sample/tz/0343.jpg', 'train_sample/tz/0020.jpg', 'train_sample/tz/0252.jpg', 'train_sample/tz/0351.jpg', 'train_sample/tz/0251.jpg', 'train_sample/tz/0403.jpg', 'train_sample/tz/0272.jpg', 'train_sample/tz/0199.jpg', 'train_sample/tz/0039.jpg', 'train_sample/tz/0141.jpg', 'train_sample/tz/0414.jpg', 'train_sample/tz/0596.jpg', 'train_sample/tz/0419.jpg', 'train_sample/tz/0090.jpg', 'train_sample/tz/0236.jpg', 'train_sample/tz/0204.jpg', 'train_sample/tz/0095.jpg', 'train_sample/tz/0482.jpg', 'train_sample/tz/0559.jpg', 'train_sample/tz/0091.jpg', 'train_sample/tz/0300.jpg', 'train_sample/tz/0076.jpg', 'train_sample/tz/0000.jpg', 'train_sample/tz/0554.jpg', 'train_sample/tz/0415.jpg', 'train_sample/tz/0040.jpg', 'train_sample/tz/0386.jpg', 'train_sample/tz/0088.jpg', 'train_sample/tz/0223.jpg', 'train_sample/tz/0303.jpg', 'train_sample/tz/0162.jpg', 'train_sample/tz/0505.jpg', 'train_sample/tz/0513.jpg', 'train_sample/tz/0470.jpg', 'train_sample/tz/0320.jpg', 'train_sample/tz/0149.jpg', 'train_sample/tz/0242.jpg', 'train_sample/tz/0013.jpg', 'train_sample/tz/0183.jpg', 'train_sample/tz/0148.jpg', 'train_sample/tz/0142.jpg', 'train_sample/tz/0070.jpg', 'train_sample/tz/0407.jpg', 'train_sample/tz/0189.jpg', 'train_sample/tz/0209.jpg', 'train_sample/tz/0106.jpg', 'train_sample/tz/0140.jpg', 'train_sample/tz/0182.jpg', 'train_sample/tz/0373.jpg', 'train_sample/tz/0194.jpg', 'train_sample/tz/0075.jpg', 'train_sample/tz/0144.jpg', 'train_sample/tz/0074.jpg', 'train_sample/tz/0205.jpg', 'train_sample/tz/0395.jpg', 'train_sample/tz/0016.jpg', 'train_sample/tz/0495.jpg', 'train_sample/tz/0208.jpg', 'train_sample/tz/0564.jpg', 'train_sample/tz/0375.jpg', 'train_sample/tz/0535.jpg', 'train_sample/tz/0176.jpg', 'train_sample/tz/0015.jpg', 'train_sample/tz/0184.jpg', 'train_sample/tz/0081.jpg', 'train_sample/tz/0529.jpg', 'train_sample/tz/0565.jpg', 'train_sample/tz/0439.jpg', 'train_sample/tz/0382.jpg', 'train_sample/tz/0531.jpg', 'train_sample/tz/0117.jpg', 'train_sample/tz/0038.jpg', 'train_sample/tz/0168.jpg', 'train_sample/tz/0096.jpg', 'train_sample/tz/0408.jpg', 'train_sample/tz/0077.jpg', 'train_sample/tz/0466.jpg', 'train_sample/tz/0118.jpg', 'train_sample/tz/0170.jpg', 'train_sample/tz/0203.jpg', 'train_sample/tz/0033.jpg', 'train_sample/tz/0073.jpg', 'train_sample/tz/0211.jpg', 'train_sample/tz/0410.jpg', 'train_sample/tz/0364.jpg', 'train_sample/tz/0315.jpg', 'train_sample/tz/0280.jpg', 'train_sample/tz/0574.jpg', 'train_sample/tz/0588.jpg', 'train_sample/tz/0433.jpg', 'train_sample/tz/0188.jpg', 'train_sample/tz/0047.jpg', 'train_sample/tz/0027.jpg', 'train_sample/tz/0381.jpg', 'train_sample/tz/0249.jpg', 'train_sample/tz/0304.jpg', 'train_sample/tz/0230.jpg', 'train_sample/tz/0286.jpg', 'train_sample/tz/0518.jpg', 'train_sample/tz/0459.jpg', 'train_sample/tz/0295.jpg', 'train_sample/tz/0220.jpg', 'train_sample/tz/0457.jpg', 'train_sample/tz/0499.jpg', 'train_sample/tz/0553.jpg', 'train_sample/tz/0256.jpg', 'train_sample/tz/0109.jpg', 'train_sample/tz/0060.jpg', 'train_sample/tz/0254.jpg', 'train_sample/tz/0367.jpg', 'train_sample/tz/0372.jpg', 'train_sample/tz/0009.jpg', 'train_sample/tz/0378.jpg', 'train_sample/tz/0317.jpg', 'train_sample/tz/0475.jpg', 'train_sample/tz/0488.jpg', 'train_sample/tz/0388.jpg', 'train_sample/tz/0314.jpg', 'train_sample/tz/0492.jpg', 'train_sample/tz/0108.jpg', 'train_sample/tz/0212.jpg', 'train_sample/tz/0163.jpg', 'train_sample/tz/0404.jpg', 'train_sample/tz/0021.jpg', 'train_sample/tz/0557.jpg', 'train_sample/tz/0358.jpg', 'train_sample/tz/0086.jpg', 'train_sample/tz/0196.jpg', 'train_sample/tz/0313.jpg', 'train_sample/tz/0275.jpg', 'train_sample/tz/0583.jpg', 'train_sample/tz/0599.jpg', 'train_sample/tz/0031.jpg', 'train_sample/tz/0384.jpg', 'train_sample/tz/0119.jpg', 'train_sample/tz/0214.jpg', 'train_sample/tz/0167.jpg', 'train_sample/tz/0134.jpg', 'train_sample/tz/0366.jpg', 'train_sample/tz/0019.jpg', 'train_sample/tz/0562.jpg', 'train_sample/tz/0591.jpg', 'train_sample/tz/0177.jpg', 'train_sample/tz/0227.jpg', 'train_sample/tz/0434.jpg', 'train_sample/tz/0512.jpg', 'train_sample/tz/0029.jpg', 'train_sample/tz/0425.jpg', 'train_sample/tz/0507.jpg', 'train_sample/tz/0237.jpg', 'train_sample/tz/0340.jpg', 'train_sample/tz/0322.jpg', 'train_sample/tz/0041.jpg', 'train_sample/tz/0569.jpg', 'train_sample/tz/0594.jpg', 'train_sample/tz/0258.jpg', 'train_sample/tz/0082.jpg', 'train_sample/tz/0245.jpg', 'train_sample/tz/0123.jpg', 'train_sample/tz/0255.jpg', 'train_sample/tz/0259.jpg', 'train_sample/tz/0238.jpg', 'train_sample/tz/0430.jpg', 'train_sample/tz/0353.jpg', 'train_sample/tz/0125.jpg', 'train_sample/tz/0490.jpg', 'train_sample/tz/0400.jpg', 'train_sample/tz/0347.jpg', 'train_sample/tz/0387.jpg', 'train_sample/tz/0191.jpg', 'train_sample/tz/0420.jpg', 'train_sample/tz/0190.jpg', 'train_sample/tz/0454.jpg', 'train_sample/tz/0193.jpg', 'train_sample/tz/0560.jpg', 'train_sample/tz/0392.jpg', 'train_sample/tz/0465.jpg', 'train_sample/tz/0547.jpg', 'train_sample/tz/0477.jpg', 'train_sample/tz/0112.jpg', 'train_sample/tz/0154.jpg', 'train_sample/tz/0563.jpg', 'train_sample/tz/0269.jpg', 'train_sample/tz/0046.jpg', 'train_sample/tz/0225.jpg', 'train_sample/tz/0206.jpg', 'train_sample/tz/0002.jpg', 'train_sample/tz/0289.jpg', 'train_sample/tz/0012.jpg', 'train_sample/tz/0447.jpg', 'train_sample/tz/0521.jpg', 'train_sample/tz/0059.jpg', 'train_sample/tz/0292.jpg', 'train_sample/tz/0546.jpg', 'train_sample/tz/0472.jpg', 'train_sample/tz/0333.jpg', 'train_sample/tz/0584.jpg', 'train_sample/tz/0277.jpg', 'train_sample/tz/0274.jpg', 'train_sample/tz/0590.jpg', 'train_sample/tz/0056.jpg', 'train_sample/tz/0534.jpg', 'train_sample/tz/0124.jpg', 'train_sample/tz/0262.jpg', 'train_sample/tz/0234.jpg', 'train_sample/tz/0030.jpg', 'train_sample/tz/0578.jpg', 'train_sample/tz/0153.jpg', 'train_sample/tz/0014.jpg', 'train_sample/tz/0133.jpg', 'train_sample/tz/0436.jpg', 'train_sample/tz/0175.jpg', 'train_sample/tz/0310.jpg', 'train_sample/tz/0087.jpg', 'train_sample/tz/0207.jpg', 'train_sample/tz/0042.jpg', 'train_sample/tz/0598.jpg', 'train_sample/tz/0413.jpg', 'train_sample/tz/0355.jpg', 'train_sample/tz/0452.jpg', 'train_sample/tz/0085.jpg', 'train_sample/tz/0396.jpg', 'train_sample/tz/0160.jpg', 'train_sample/tz/0437.jpg', 'train_sample/tz/0508.jpg', 'train_sample/tz/0006.jpg', 'train_sample/tz/0448.jpg', 'train_sample/tz/0350.jpg', 'train_sample/tz/0131.jpg', 'train_sample/tz/0346.jpg', 'train_sample/tz/0359.jpg', 'train_sample/tz/0226.jpg', 'train_sample/tz/0445.jpg', 'train_sample/tz/0126.jpg', 'train_sample/tz/0360.jpg', 'train_sample/tz/0551.jpg', 'train_sample/tz/0306.jpg', 'train_sample/tz/0180.jpg', 'train_sample/tz/0101.jpg', 'train_sample/tz/0568.jpg', 'train_sample/tz/0270.jpg', 'train_sample/tz/0345.jpg', 'train_sample/tz/0377.jpg', 'train_sample/tz/0409.jpg', 'train_sample/tz/0432.jpg', 'train_sample/tz/0150.jpg', 'train_sample/tz/0037.jpg', 'train_sample/tz/0102.jpg', 'train_sample/tz/0201.jpg', 'train_sample/tz/0478.jpg', 'train_sample/tz/0393.jpg', 'train_sample/tz/0312.jpg', 'train_sample/tz/0319.jpg', 'train_sample/tz/0004.jpg', 'train_sample/tz/0121.jpg', 'train_sample/tz/0572.jpg', 'train_sample/tz/0476.jpg', 'train_sample/tz/0285.jpg', 'train_sample/tz/0049.jpg', 'train_sample/tz/0051.jpg', 'train_sample/tz/0530.jpg', 'train_sample/tz/0034.jpg', 'train_sample/tz/0094.jpg', 'train_sample/tz/0198.jpg', 'train_sample/tz/0435.jpg', 'train_sample/tz/0158.jpg', 'train_sample/tz/0558.jpg', 'train_sample/tz/0417.jpg', 'train_sample/tz/0065.jpg', 'train_sample/tz/0458.jpg', 'train_sample/tz/0371.jpg', 'train_sample/tz/0079.jpg', 'train_sample/tz/0279.jpg', 'train_sample/tz/0058.jpg', 'train_sample/tz/0587.jpg', 'train_sample/tz/0524.jpg', 'train_sample/tz/0050.jpg', 'train_sample/tz/0111.jpg', 'train_sample/tz/0218.jpg', 'train_sample/tz/0362.jpg', 'train_sample/tz/0018.jpg', 'train_sample/tz/0062.jpg', 'train_sample/tz/0179.jpg', 'train_sample/tz/0022.jpg', 'train_sample/tz/0423.jpg', 'train_sample/tz/0517.jpg', 'train_sample/tz/0533.jpg', 'train_sample/tz/0460.jpg', 'train_sample/tz/0520.jpg', 'train_sample/tz/0338.jpg', 'train_sample/tz/0222.jpg', 'train_sample/tz/0577.jpg', 'train_sample/tz/0147.jpg', 'train_sample/tz/0173.jpg', 'train_sample/tz/0511.jpg', 'train_sample/tz/0369.jpg', 'train_sample/tz/0318.jpg', 'train_sample/tz/0324.jpg', 'train_sample/tz/0522.jpg', 'train_sample/tz/0523.jpg', 'train_sample/tz/0307.jpg', 'train_sample/tz/0011.jpg', 'train_sample/tz/0044.jpg', 'train_sample/tz/0421.jpg', 'train_sample/tz/0246.jpg', 'train_sample/tz/0276.jpg', 'train_sample/tz/0498.jpg', 'train_sample/tz/0181.jpg', 'train_sample/tz/0428.jpg', 'train_sample/tz/0127.jpg', 'train_sample/tz/0494.jpg', 'train_sample/tz/0202.jpg', 'train_sample/tz/0374.jpg', 'train_sample/tz/0048.jpg', 'train_sample/tz/0397.jpg', 'train_sample/tz/0159.jpg', 'train_sample/tz/0504.jpg', 'train_sample/tz/0368.jpg', 'train_sample/tz/0217.jpg', 'train_sample/tz/0069.jpg', 'train_sample/tz/0192.jpg', 'train_sample/tz/0405.jpg', 'train_sample/tz/0450.jpg', 'train_sample/tz/0028.jpg', 'train_sample/tz/0186.jpg', 'train_sample/tz/0467.jpg', 'train_sample/tz/0548.jpg', 'train_sample/tz/0257.jpg', 'train_sample/tz/0110.jpg', 'train_sample/tz/0311.jpg', 'train_sample/tz/0483.jpg', 'train_sample/tz/0143.jpg', 'train_sample/tz/0418.jpg', 'train_sample/tz/0519.jpg', 'train_sample/tz/0271.jpg', 'train_sample/tz/0265.jpg', 'train_sample/tz/0025.jpg', 'train_sample/tz/0097.jpg', 'train_sample/tz/0446.jpg', 'train_sample/tz/0174.jpg', 'train_sample/tz/0266.jpg', 'train_sample/tz/0128.jpg', 'train_sample/tz/0250.jpg', 'train_sample/tz/0501.jpg', 'train_sample/tz/0045.jpg', 'train_sample/tz/0241.jpg', 'train_sample/tz/0120.jpg', 'train_sample/tz/0455.jpg', 'train_sample/tz/0213.jpg', 'train_sample/tz/0130.jpg', 'train_sample/tz/0268.jpg', 'train_sample/tz/0146.jpg', 'train_sample/tz/0337.jpg', 'train_sample/tz/0178.jpg']\n"
     ]
    }
   ],
   "source": [
    "tz_pathes = []\n",
    "for element in os.listdir(tz):\n",
    "    tz_pathes.append(os.path.join(tz, element))"
   ]
  },
  {
   "cell_type": "code",
   "execution_count": 26,
   "metadata": {},
   "outputs": [
    {
     "name": "stdout",
     "output_type": "stream",
     "text": [
      "train_sample/tz/0093.jpg\n"
     ]
    }
   ],
   "source": [
    "path_exp = tz_pathes[0]\n",
    "print(path_exp)"
   ]
  },
  {
   "cell_type": "code",
   "execution_count": 33,
   "metadata": {},
   "outputs": [
    {
     "data": {
      "text/plain": [
       "<matplotlib.image.AxesImage at 0x7f2dc090a5c0>"
      ]
     },
     "execution_count": 33,
     "metadata": {},
     "output_type": "execute_result"
    },
    {
     "data": {
      "image/png": "[encoded data removed]",
      "text/plain": [
       "<Figure size 432x288 with 1 Axes>"
      ]
     },
     "metadata": {
      "needs_background": "light"
     },
     "output_type": "display_data"
    }
   ],
   "source": [
    "image = cv2.imread(path_exp)\n",
    "plt.imshow(image)"
   ]
  },
  {
   "cell_type": "code",
   "execution_count": 41,
   "metadata": {},
   "outputs": [],
   "source": [
    "usr_config = r'-l rus'\n",
    "output = pytesseract.image_to_string(image,config = usr_config)"
   ]
  },
  {
   "cell_type": "code",
   "execution_count": 42,
   "metadata": {},
   "outputs": [
    {
     "name": "stdout",
     "output_type": "stream",
     "text": [
      "Федеральное агентство по образованию\n",
      "Сибирский федеральный университет\n",
      "\n",
      "АНАЛИЗ ТРЕБОВАНИЙ К\n",
      "ИНФОРМАЦИОННЫМ СИСТЕМАМ\n",
      "\n",
      "Конспект лекций\n",
      "\n",
      "Маглинец Ю.А.\n",
      "\n",
      "Красноярск\n",
      "СФУ\n",
      "2007\n"
     ]
    }
   ],
   "source": [
    "print(output)"
   ]
  },
  {
   "cell_type": "code",
   "execution_count": 43,
   "metadata": {},
   "outputs": [],
   "source": [
    "filename = '0093.txt'\n",
    "with open(filename, 'a') as f:\n",
    "    f.write(output)"
   ]
  },
  {
   "cell_type": "code",
   "execution_count": 46,
   "metadata": {},
   "outputs": [
    {
     "data": {
      "text/plain": [
       "True"
      ]
     },
     "execution_count": 46,
     "metadata": {},
     "output_type": "execute_result"
    }
   ],
   "source": [
    "os.path.exists(filename)"
   ]
  },
  {
   "cell_type": "code",
   "execution_count": 74,
   "metadata": {},
   "outputs": [],
   "source": [
    "def img2txt(in_pathes, out_path):\n",
    "    if os.path.exists(out_path) == False:\n",
    "        os.mkdir(out_path)\n",
    "    #pbar = tqdm(total = len(in_pathes))\n",
    "    for image in in_pathes:\n",
    "        name = (image.split('/')[2]).split('.')[0]\n",
    "        filename = os.path.join(out_path,name)\n",
    "        \n",
    "        img = cv2.imread(image)\n",
    "        print(image)\n",
    "        usr_config = r'-l rus'\n",
    "        output = pytesseract.image_to_string(img,config = usr_config)\n",
    "        with open(filename, 'a') as f:\n",
    "            f.write(output)\n",
    "        #pbar.update(1)\n",
    "    #pbar.close()"
   ]
  },
  {
   "cell_type": "code",
   "execution_count": 70,
   "metadata": {
    "scrolled": true
   },
   "outputs": [
    {
     "ename": "KeyboardInterrupt",
     "evalue": "",
     "output_type": "error",
     "traceback": [
      "\u001b[0;31m---------------------------------------------------------------------------\u001b[0m",
      "\u001b[0;31mKeyboardInterrupt\u001b[0m                         Traceback (most recent call last)",
      "\u001b[0;32m<ipython-input-70-8c523d1ae7a6>\u001b[0m in \u001b[0;36m<module>\u001b[0;34m\u001b[0m\n\u001b[0;32m----> 1\u001b[0;31m \u001b[0mimg2txt\u001b[0m\u001b[0;34m(\u001b[0m\u001b[0mtz_pathes\u001b[0m\u001b[0;34m,\u001b[0m \u001b[0;34m'text'\u001b[0m\u001b[0;34m)\u001b[0m\u001b[0;34m\u001b[0m\u001b[0;34m\u001b[0m\u001b[0m\n\u001b[0m",
      "\u001b[0;32m<ipython-input-69-f9b2e09bb8cf>\u001b[0m in \u001b[0;36mimg2txt\u001b[0;34m(in_pathes, out_path)\u001b[0m\n\u001b[1;32m      9\u001b[0m         \u001b[0mimg\u001b[0m \u001b[0;34m=\u001b[0m \u001b[0mcv2\u001b[0m\u001b[0;34m.\u001b[0m\u001b[0mimread\u001b[0m\u001b[0;34m(\u001b[0m\u001b[0mimage\u001b[0m\u001b[0;34m)\u001b[0m\u001b[0;34m\u001b[0m\u001b[0;34m\u001b[0m\u001b[0m\n\u001b[1;32m     10\u001b[0m         \u001b[0musr_config\u001b[0m \u001b[0;34m=\u001b[0m \u001b[0;34mr'-l rus'\u001b[0m\u001b[0;34m\u001b[0m\u001b[0;34m\u001b[0m\u001b[0m\n\u001b[0;32m---> 11\u001b[0;31m         \u001b[0moutput\u001b[0m \u001b[0;34m=\u001b[0m \u001b[0mpytesseract\u001b[0m\u001b[0;34m.\u001b[0m\u001b[0mimage_to_string\u001b[0m\u001b[0;34m(\u001b[0m\u001b[0mimg\u001b[0m\u001b[0;34m,\u001b[0m\u001b[0mconfig\u001b[0m \u001b[0;34m=\u001b[0m \u001b[0musr_config\u001b[0m\u001b[0;34m)\u001b[0m\u001b[0;34m\u001b[0m\u001b[0;34m\u001b[0m\u001b[0m\n\u001b[0m\u001b[1;32m     12\u001b[0m         \u001b[0;32mwith\u001b[0m \u001b[0mopen\u001b[0m\u001b[0;34m(\u001b[0m\u001b[0mfilename\u001b[0m\u001b[0;34m,\u001b[0m \u001b[0;34m'a'\u001b[0m\u001b[0;34m)\u001b[0m \u001b[0;32mas\u001b[0m \u001b[0mf\u001b[0m\u001b[0;34m:\u001b[0m\u001b[0;34m\u001b[0m\u001b[0;34m\u001b[0m\u001b[0m\n\u001b[1;32m     13\u001b[0m             \u001b[0mf\u001b[0m\u001b[0;34m.\u001b[0m\u001b[0mwrite\u001b[0m\u001b[0;34m(\u001b[0m\u001b[0moutput\u001b[0m\u001b[0;34m)\u001b[0m\u001b[0;34m\u001b[0m\u001b[0;34m\u001b[0m\u001b[0m\n",
      "\u001b[0;32m~/anaconda3/lib/python3.7/site-packages/pytesseract/pytesseract.py\u001b[0m in \u001b[0;36mimage_to_string\u001b[0;34m(image, lang, config, nice, output_type, timeout)\u001b[0m\n\u001b[1;32m    358\u001b[0m         \u001b[0mOutput\u001b[0m\u001b[0;34m.\u001b[0m\u001b[0mDICT\u001b[0m\u001b[0;34m:\u001b[0m \u001b[0;32mlambda\u001b[0m\u001b[0;34m:\u001b[0m \u001b[0;34m{\u001b[0m\u001b[0;34m'text'\u001b[0m\u001b[0;34m:\u001b[0m \u001b[0mrun_and_get_output\u001b[0m\u001b[0;34m(\u001b[0m\u001b[0;34m*\u001b[0m\u001b[0margs\u001b[0m\u001b[0;34m)\u001b[0m\u001b[0;34m}\u001b[0m\u001b[0;34m,\u001b[0m\u001b[0;34m\u001b[0m\u001b[0;34m\u001b[0m\u001b[0m\n\u001b[1;32m    359\u001b[0m         \u001b[0mOutput\u001b[0m\u001b[0;34m.\u001b[0m\u001b[0mSTRING\u001b[0m\u001b[0;34m:\u001b[0m \u001b[0;32mlambda\u001b[0m\u001b[0;34m:\u001b[0m \u001b[0mrun_and_get_output\u001b[0m\u001b[0;34m(\u001b[0m\u001b[0;34m*\u001b[0m\u001b[0margs\u001b[0m\u001b[0;34m)\u001b[0m\u001b[0;34m,\u001b[0m\u001b[0;34m\u001b[0m\u001b[0;34m\u001b[0m\u001b[0m\n\u001b[0;32m--> 360\u001b[0;31m     }[output_type]()\n\u001b[0m\u001b[1;32m    361\u001b[0m \u001b[0;34m\u001b[0m\u001b[0m\n\u001b[1;32m    362\u001b[0m \u001b[0;34m\u001b[0m\u001b[0m\n",
      "\u001b[0;32m~/anaconda3/lib/python3.7/site-packages/pytesseract/pytesseract.py\u001b[0m in \u001b[0;36m<lambda>\u001b[0;34m()\u001b[0m\n\u001b[1;32m    357\u001b[0m         \u001b[0mOutput\u001b[0m\u001b[0;34m.\u001b[0m\u001b[0mBYTES\u001b[0m\u001b[0;34m:\u001b[0m \u001b[0;32mlambda\u001b[0m\u001b[0;34m:\u001b[0m \u001b[0mrun_and_get_output\u001b[0m\u001b[0;34m(\u001b[0m\u001b[0;34m*\u001b[0m\u001b[0;34m(\u001b[0m\u001b[0margs\u001b[0m \u001b[0;34m+\u001b[0m \u001b[0;34m[\u001b[0m\u001b[0;32mTrue\u001b[0m\u001b[0;34m]\u001b[0m\u001b[0;34m)\u001b[0m\u001b[0;34m)\u001b[0m\u001b[0;34m,\u001b[0m\u001b[0;34m\u001b[0m\u001b[0;34m\u001b[0m\u001b[0m\n\u001b[1;32m    358\u001b[0m         \u001b[0mOutput\u001b[0m\u001b[0;34m.\u001b[0m\u001b[0mDICT\u001b[0m\u001b[0;34m:\u001b[0m \u001b[0;32mlambda\u001b[0m\u001b[0;34m:\u001b[0m \u001b[0;34m{\u001b[0m\u001b[0;34m'text'\u001b[0m\u001b[0;34m:\u001b[0m \u001b[0mrun_and_get_output\u001b[0m\u001b[0;34m(\u001b[0m\u001b[0;34m*\u001b[0m\u001b[0margs\u001b[0m\u001b[0;34m)\u001b[0m\u001b[0;34m}\u001b[0m\u001b[0;34m,\u001b[0m\u001b[0;34m\u001b[0m\u001b[0;34m\u001b[0m\u001b[0m\n\u001b[0;32m--> 359\u001b[0;31m         \u001b[0mOutput\u001b[0m\u001b[0;34m.\u001b[0m\u001b[0mSTRING\u001b[0m\u001b[0;34m:\u001b[0m \u001b[0;32mlambda\u001b[0m\u001b[0;34m:\u001b[0m \u001b[0mrun_and_get_output\u001b[0m\u001b[0;34m(\u001b[0m\u001b[0;34m*\u001b[0m\u001b[0margs\u001b[0m\u001b[0;34m)\u001b[0m\u001b[0;34m,\u001b[0m\u001b[0;34m\u001b[0m\u001b[0;34m\u001b[0m\u001b[0m\n\u001b[0m\u001b[1;32m    360\u001b[0m     }[output_type]()\n\u001b[1;32m    361\u001b[0m \u001b[0;34m\u001b[0m\u001b[0m\n",
      "\u001b[0;32m~/anaconda3/lib/python3.7/site-packages/pytesseract/pytesseract.py\u001b[0m in \u001b[0;36mrun_and_get_output\u001b[0;34m(image, extension, lang, config, nice, timeout, return_bytes)\u001b[0m\n\u001b[1;32m    268\u001b[0m         }\n\u001b[1;32m    269\u001b[0m \u001b[0;34m\u001b[0m\u001b[0m\n\u001b[0;32m--> 270\u001b[0;31m         \u001b[0mrun_tesseract\u001b[0m\u001b[0;34m(\u001b[0m\u001b[0;34m**\u001b[0m\u001b[0mkwargs\u001b[0m\u001b[0;34m)\u001b[0m\u001b[0;34m\u001b[0m\u001b[0;34m\u001b[0m\u001b[0m\n\u001b[0m\u001b[1;32m    271\u001b[0m         \u001b[0mfilename\u001b[0m \u001b[0;34m=\u001b[0m \u001b[0mkwargs\u001b[0m\u001b[0;34m[\u001b[0m\u001b[0;34m'output_filename_base'\u001b[0m\u001b[0;34m]\u001b[0m \u001b[0;34m+\u001b[0m \u001b[0mextsep\u001b[0m \u001b[0;34m+\u001b[0m \u001b[0mextension\u001b[0m\u001b[0;34m\u001b[0m\u001b[0;34m\u001b[0m\u001b[0m\n\u001b[1;32m    272\u001b[0m         \u001b[0;32mwith\u001b[0m \u001b[0mopen\u001b[0m\u001b[0;34m(\u001b[0m\u001b[0mfilename\u001b[0m\u001b[0;34m,\u001b[0m \u001b[0;34m'rb'\u001b[0m\u001b[0;34m)\u001b[0m \u001b[0;32mas\u001b[0m \u001b[0moutput_file\u001b[0m\u001b[0;34m:\u001b[0m\u001b[0;34m\u001b[0m\u001b[0;34m\u001b[0m\u001b[0m\n",
      "\u001b[0;32m~/anaconda3/lib/python3.7/site-packages/pytesseract/pytesseract.py\u001b[0m in \u001b[0;36mrun_tesseract\u001b[0;34m(input_filename, output_filename_base, extension, lang, config, nice, timeout)\u001b[0m\n\u001b[1;32m    242\u001b[0m         \u001b[0;32mraise\u001b[0m \u001b[0mTesseractNotFoundError\u001b[0m\u001b[0;34m(\u001b[0m\u001b[0;34m)\u001b[0m\u001b[0;34m\u001b[0m\u001b[0;34m\u001b[0m\u001b[0m\n\u001b[1;32m    243\u001b[0m \u001b[0;34m\u001b[0m\u001b[0m\n\u001b[0;32m--> 244\u001b[0;31m     \u001b[0;32mwith\u001b[0m \u001b[0mtimeout_manager\u001b[0m\u001b[0;34m(\u001b[0m\u001b[0mproc\u001b[0m\u001b[0;34m,\u001b[0m \u001b[0mtimeout\u001b[0m\u001b[0;34m)\u001b[0m \u001b[0;32mas\u001b[0m \u001b[0merror_string\u001b[0m\u001b[0;34m:\u001b[0m\u001b[0;34m\u001b[0m\u001b[0;34m\u001b[0m\u001b[0m\n\u001b[0m\u001b[1;32m    245\u001b[0m         \u001b[0;32mif\u001b[0m \u001b[0mproc\u001b[0m\u001b[0;34m.\u001b[0m\u001b[0mreturncode\u001b[0m\u001b[0;34m:\u001b[0m\u001b[0;34m\u001b[0m\u001b[0;34m\u001b[0m\u001b[0m\n\u001b[1;32m    246\u001b[0m             \u001b[0;32mraise\u001b[0m \u001b[0mTesseractError\u001b[0m\u001b[0;34m(\u001b[0m\u001b[0mproc\u001b[0m\u001b[0;34m.\u001b[0m\u001b[0mreturncode\u001b[0m\u001b[0;34m,\u001b[0m \u001b[0mget_errors\u001b[0m\u001b[0;34m(\u001b[0m\u001b[0merror_string\u001b[0m\u001b[0;34m)\u001b[0m\u001b[0;34m)\u001b[0m\u001b[0;34m\u001b[0m\u001b[0;34m\u001b[0m\u001b[0m\n",
      "\u001b[0;32m~/anaconda3/lib/python3.7/contextlib.py\u001b[0m in \u001b[0;36m__enter__\u001b[0;34m(self)\u001b[0m\n\u001b[1;32m    110\u001b[0m         \u001b[0;32mdel\u001b[0m \u001b[0mself\u001b[0m\u001b[0;34m.\u001b[0m\u001b[0margs\u001b[0m\u001b[0;34m,\u001b[0m \u001b[0mself\u001b[0m\u001b[0;34m.\u001b[0m\u001b[0mkwds\u001b[0m\u001b[0;34m,\u001b[0m \u001b[0mself\u001b[0m\u001b[0;34m.\u001b[0m\u001b[0mfunc\u001b[0m\u001b[0;34m\u001b[0m\u001b[0;34m\u001b[0m\u001b[0m\n\u001b[1;32m    111\u001b[0m         \u001b[0;32mtry\u001b[0m\u001b[0;34m:\u001b[0m\u001b[0;34m\u001b[0m\u001b[0;34m\u001b[0m\u001b[0m\n\u001b[0;32m--> 112\u001b[0;31m             \u001b[0;32mreturn\u001b[0m \u001b[0mnext\u001b[0m\u001b[0;34m(\u001b[0m\u001b[0mself\u001b[0m\u001b[0;34m.\u001b[0m\u001b[0mgen\u001b[0m\u001b[0;34m)\u001b[0m\u001b[0;34m\u001b[0m\u001b[0;34m\u001b[0m\u001b[0m\n\u001b[0m\u001b[1;32m    113\u001b[0m         \u001b[0;32mexcept\u001b[0m \u001b[0mStopIteration\u001b[0m\u001b[0;34m:\u001b[0m\u001b[0;34m\u001b[0m\u001b[0;34m\u001b[0m\u001b[0m\n\u001b[1;32m    114\u001b[0m             \u001b[0;32mraise\u001b[0m \u001b[0mRuntimeError\u001b[0m\u001b[0;34m(\u001b[0m\u001b[0;34m\"generator didn't yield\"\u001b[0m\u001b[0;34m)\u001b[0m \u001b[0;32mfrom\u001b[0m \u001b[0;32mNone\u001b[0m\u001b[0;34m\u001b[0m\u001b[0;34m\u001b[0m\u001b[0m\n",
      "\u001b[0;32m~/anaconda3/lib/python3.7/site-packages/pytesseract/pytesseract.py\u001b[0m in \u001b[0;36mtimeout_manager\u001b[0;34m(proc, seconds)\u001b[0m\n\u001b[1;32m     99\u001b[0m     \u001b[0;32mtry\u001b[0m\u001b[0;34m:\u001b[0m\u001b[0;34m\u001b[0m\u001b[0;34m\u001b[0m\u001b[0m\n\u001b[1;32m    100\u001b[0m         \u001b[0;32mif\u001b[0m \u001b[0;32mnot\u001b[0m \u001b[0mseconds\u001b[0m\u001b[0;34m:\u001b[0m\u001b[0;34m\u001b[0m\u001b[0;34m\u001b[0m\u001b[0m\n\u001b[0;32m--> 101\u001b[0;31m             \u001b[0;32myield\u001b[0m \u001b[0mproc\u001b[0m\u001b[0;34m.\u001b[0m\u001b[0mcommunicate\u001b[0m\u001b[0;34m(\u001b[0m\u001b[0;34m)\u001b[0m\u001b[0;34m[\u001b[0m\u001b[0;36m1\u001b[0m\u001b[0;34m]\u001b[0m\u001b[0;34m\u001b[0m\u001b[0;34m\u001b[0m\u001b[0m\n\u001b[0m\u001b[1;32m    102\u001b[0m             \u001b[0;32mreturn\u001b[0m\u001b[0;34m\u001b[0m\u001b[0;34m\u001b[0m\u001b[0m\n\u001b[1;32m    103\u001b[0m \u001b[0;34m\u001b[0m\u001b[0m\n",
      "\u001b[0;32m~/anaconda3/lib/python3.7/subprocess.py\u001b[0m in \u001b[0;36mcommunicate\u001b[0;34m(self, input, timeout)\u001b[0m\n\u001b[1;32m    931\u001b[0m \u001b[0;34m\u001b[0m\u001b[0m\n\u001b[1;32m    932\u001b[0m             \u001b[0;32mtry\u001b[0m\u001b[0;34m:\u001b[0m\u001b[0;34m\u001b[0m\u001b[0;34m\u001b[0m\u001b[0m\n\u001b[0;32m--> 933\u001b[0;31m                 \u001b[0mstdout\u001b[0m\u001b[0;34m,\u001b[0m \u001b[0mstderr\u001b[0m \u001b[0;34m=\u001b[0m \u001b[0mself\u001b[0m\u001b[0;34m.\u001b[0m\u001b[0m_communicate\u001b[0m\u001b[0;34m(\u001b[0m\u001b[0minput\u001b[0m\u001b[0;34m,\u001b[0m \u001b[0mendtime\u001b[0m\u001b[0;34m,\u001b[0m \u001b[0mtimeout\u001b[0m\u001b[0;34m)\u001b[0m\u001b[0;34m\u001b[0m\u001b[0;34m\u001b[0m\u001b[0m\n\u001b[0m\u001b[1;32m    934\u001b[0m             \u001b[0;32mexcept\u001b[0m \u001b[0mKeyboardInterrupt\u001b[0m\u001b[0;34m:\u001b[0m\u001b[0;34m\u001b[0m\u001b[0;34m\u001b[0m\u001b[0m\n\u001b[1;32m    935\u001b[0m                 \u001b[0;31m# https://bugs.python.org/issue25942\u001b[0m\u001b[0;34m\u001b[0m\u001b[0;34m\u001b[0m\u001b[0;34m\u001b[0m\u001b[0m\n",
      "\u001b[0;32m~/anaconda3/lib/python3.7/subprocess.py\u001b[0m in \u001b[0;36m_communicate\u001b[0;34m(self, input, endtime, orig_timeout)\u001b[0m\n\u001b[1;32m   1673\u001b[0m                         \u001b[0;32mraise\u001b[0m \u001b[0mTimeoutExpired\u001b[0m\u001b[0;34m(\u001b[0m\u001b[0mself\u001b[0m\u001b[0;34m.\u001b[0m\u001b[0margs\u001b[0m\u001b[0;34m,\u001b[0m \u001b[0morig_timeout\u001b[0m\u001b[0;34m)\u001b[0m\u001b[0;34m\u001b[0m\u001b[0;34m\u001b[0m\u001b[0m\n\u001b[1;32m   1674\u001b[0m \u001b[0;34m\u001b[0m\u001b[0m\n\u001b[0;32m-> 1675\u001b[0;31m                     \u001b[0mready\u001b[0m \u001b[0;34m=\u001b[0m \u001b[0mselector\u001b[0m\u001b[0;34m.\u001b[0m\u001b[0mselect\u001b[0m\u001b[0;34m(\u001b[0m\u001b[0mtimeout\u001b[0m\u001b[0;34m)\u001b[0m\u001b[0;34m\u001b[0m\u001b[0;34m\u001b[0m\u001b[0m\n\u001b[0m\u001b[1;32m   1676\u001b[0m                     \u001b[0mself\u001b[0m\u001b[0;34m.\u001b[0m\u001b[0m_check_timeout\u001b[0m\u001b[0;34m(\u001b[0m\u001b[0mendtime\u001b[0m\u001b[0;34m,\u001b[0m \u001b[0morig_timeout\u001b[0m\u001b[0;34m)\u001b[0m\u001b[0;34m\u001b[0m\u001b[0;34m\u001b[0m\u001b[0m\n\u001b[1;32m   1677\u001b[0m \u001b[0;34m\u001b[0m\u001b[0m\n",
      "\u001b[0;32m~/anaconda3/lib/python3.7/selectors.py\u001b[0m in \u001b[0;36mselect\u001b[0;34m(self, timeout)\u001b[0m\n\u001b[1;32m    413\u001b[0m         \u001b[0mready\u001b[0m \u001b[0;34m=\u001b[0m \u001b[0;34m[\u001b[0m\u001b[0;34m]\u001b[0m\u001b[0;34m\u001b[0m\u001b[0;34m\u001b[0m\u001b[0m\n\u001b[1;32m    414\u001b[0m         \u001b[0;32mtry\u001b[0m\u001b[0;34m:\u001b[0m\u001b[0;34m\u001b[0m\u001b[0;34m\u001b[0m\u001b[0m\n\u001b[0;32m--> 415\u001b[0;31m             \u001b[0mfd_event_list\u001b[0m \u001b[0;34m=\u001b[0m \u001b[0mself\u001b[0m\u001b[0;34m.\u001b[0m\u001b[0m_selector\u001b[0m\u001b[0;34m.\u001b[0m\u001b[0mpoll\u001b[0m\u001b[0;34m(\u001b[0m\u001b[0mtimeout\u001b[0m\u001b[0;34m)\u001b[0m\u001b[0;34m\u001b[0m\u001b[0;34m\u001b[0m\u001b[0m\n\u001b[0m\u001b[1;32m    416\u001b[0m         \u001b[0;32mexcept\u001b[0m \u001b[0mInterruptedError\u001b[0m\u001b[0;34m:\u001b[0m\u001b[0;34m\u001b[0m\u001b[0;34m\u001b[0m\u001b[0m\n\u001b[1;32m    417\u001b[0m             \u001b[0;32mreturn\u001b[0m \u001b[0mready\u001b[0m\u001b[0;34m\u001b[0m\u001b[0;34m\u001b[0m\u001b[0m\n",
      "\u001b[0;31mKeyboardInterrupt\u001b[0m: "
     ]
    }
   ],
   "source": [
    "img2txt(tz_pathes, 'text')"
   ]
  },
  {
   "cell_type": "code",
   "execution_count": 76,
   "metadata": {},
   "outputs": [],
   "source": [
    "npa_pathes = []\n",
    "for element in os.listdir(npa):\n",
    "    npa_pathes.append(os.path.join(npa, element))"
   ]
  },
  {
   "cell_type": "code",
   "execution_count": 77,
   "metadata": {},
   "outputs": [
    {
     "name": "stdout",
     "output_type": "stream",
     "text": [
      "train_sample/npa/0093.jpg\n",
      "train_sample/npa/0541.jpg\n",
      "train_sample/npa/0137.jpg\n",
      "train_sample/npa/0244.jpg\n",
      "train_sample/npa/0526.jpg\n",
      "train_sample/npa/0264.jpg\n",
      "train_sample/npa/0253.jpg\n",
      "train_sample/npa/0240.jpg\n",
      "train_sample/npa/0008.jpg\n",
      "train_sample/npa/0485.jpg\n",
      "train_sample/npa/0043.jpg\n",
      "train_sample/npa/0503.jpg\n",
      "train_sample/npa/0263.jpg\n",
      "train_sample/npa/0380.jpg\n",
      "train_sample/npa/0105.jpg\n",
      "train_sample/npa/0571.jpg\n",
      "train_sample/npa/0576.jpg\n",
      "train_sample/npa/0293.jpg\n",
      "train_sample/npa/0071.jpg\n",
      "train_sample/npa/0528.jpg\n",
      "train_sample/npa/0349.jpg\n",
      "train_sample/npa/0026.jpg\n",
      "train_sample/npa/0592.jpg\n",
      "train_sample/npa/0267.jpg\n",
      "train_sample/npa/0336.jpg\n",
      "train_sample/npa/0092.jpg\n",
      "train_sample/npa/0138.jpg\n",
      "train_sample/npa/0416.jpg\n",
      "train_sample/npa/0597.jpg\n",
      "train_sample/npa/0132.jpg\n",
      "train_sample/npa/0083.jpg\n",
      "train_sample/npa/0281.jpg\n",
      "train_sample/npa/0471.jpg\n",
      "train_sample/npa/0484.jpg\n",
      "train_sample/npa/0579.jpg\n",
      "train_sample/npa/0054.jpg\n",
      "train_sample/npa/0453.jpg\n",
      "train_sample/npa/0532.jpg\n",
      "train_sample/npa/0593.jpg\n",
      "train_sample/npa/0287.jpg\n",
      "train_sample/npa/0057.jpg\n",
      "train_sample/npa/0539.jpg\n",
      "train_sample/npa/0172.jpg\n",
      "train_sample/npa/0398.jpg\n",
      "train_sample/npa/0078.jpg\n",
      "train_sample/npa/0007.jpg\n",
      "train_sample/npa/0283.jpg\n",
      "train_sample/npa/0282.jpg\n",
      "train_sample/npa/0136.jpg\n"
     ]
    },
    {
     "ename": "KeyboardInterrupt",
     "evalue": "",
     "output_type": "error",
     "traceback": [
      "\u001b[0;31m---------------------------------------------------------------------------\u001b[0m",
      "\u001b[0;31mKeyboardInterrupt\u001b[0m                         Traceback (most recent call last)",
      "\u001b[0;32m<ipython-input-77-a773179ba6d2>\u001b[0m in \u001b[0;36m<module>\u001b[0;34m\u001b[0m\n\u001b[0;32m----> 1\u001b[0;31m \u001b[0mimg2txt\u001b[0m\u001b[0;34m(\u001b[0m\u001b[0mnpa_pathes\u001b[0m\u001b[0;34m,\u001b[0m \u001b[0;34m'text_npa'\u001b[0m\u001b[0;34m)\u001b[0m\u001b[0;34m\u001b[0m\u001b[0;34m\u001b[0m\u001b[0m\n\u001b[0m",
      "\u001b[0;32m<ipython-input-74-657960597fa5>\u001b[0m in \u001b[0;36mimg2txt\u001b[0;34m(in_pathes, out_path)\u001b[0m\n\u001b[1;32m     10\u001b[0m         \u001b[0mprint\u001b[0m\u001b[0;34m(\u001b[0m\u001b[0mimage\u001b[0m\u001b[0;34m)\u001b[0m\u001b[0;34m\u001b[0m\u001b[0;34m\u001b[0m\u001b[0m\n\u001b[1;32m     11\u001b[0m         \u001b[0musr_config\u001b[0m \u001b[0;34m=\u001b[0m \u001b[0;34mr'-l rus'\u001b[0m\u001b[0;34m\u001b[0m\u001b[0;34m\u001b[0m\u001b[0m\n\u001b[0;32m---> 12\u001b[0;31m         \u001b[0moutput\u001b[0m \u001b[0;34m=\u001b[0m \u001b[0mpytesseract\u001b[0m\u001b[0;34m.\u001b[0m\u001b[0mimage_to_string\u001b[0m\u001b[0;34m(\u001b[0m\u001b[0mimg\u001b[0m\u001b[0;34m,\u001b[0m\u001b[0mconfig\u001b[0m \u001b[0;34m=\u001b[0m \u001b[0musr_config\u001b[0m\u001b[0;34m)\u001b[0m\u001b[0;34m\u001b[0m\u001b[0;34m\u001b[0m\u001b[0m\n\u001b[0m\u001b[1;32m     13\u001b[0m         \u001b[0;32mwith\u001b[0m \u001b[0mopen\u001b[0m\u001b[0;34m(\u001b[0m\u001b[0mfilename\u001b[0m\u001b[0;34m,\u001b[0m \u001b[0;34m'a'\u001b[0m\u001b[0;34m)\u001b[0m \u001b[0;32mas\u001b[0m \u001b[0mf\u001b[0m\u001b[0;34m:\u001b[0m\u001b[0;34m\u001b[0m\u001b[0;34m\u001b[0m\u001b[0m\n\u001b[1;32m     14\u001b[0m             \u001b[0mf\u001b[0m\u001b[0;34m.\u001b[0m\u001b[0mwrite\u001b[0m\u001b[0;34m(\u001b[0m\u001b[0moutput\u001b[0m\u001b[0;34m)\u001b[0m\u001b[0;34m\u001b[0m\u001b[0;34m\u001b[0m\u001b[0m\n",
      "\u001b[0;32m~/anaconda3/lib/python3.7/site-packages/pytesseract/pytesseract.py\u001b[0m in \u001b[0;36mimage_to_string\u001b[0;34m(image, lang, config, nice, output_type, timeout)\u001b[0m\n\u001b[1;32m    358\u001b[0m         \u001b[0mOutput\u001b[0m\u001b[0;34m.\u001b[0m\u001b[0mDICT\u001b[0m\u001b[0;34m:\u001b[0m \u001b[0;32mlambda\u001b[0m\u001b[0;34m:\u001b[0m \u001b[0;34m{\u001b[0m\u001b[0;34m'text'\u001b[0m\u001b[0;34m:\u001b[0m \u001b[0mrun_and_get_output\u001b[0m\u001b[0;34m(\u001b[0m\u001b[0;34m*\u001b[0m\u001b[0margs\u001b[0m\u001b[0;34m)\u001b[0m\u001b[0;34m}\u001b[0m\u001b[0;34m,\u001b[0m\u001b[0;34m\u001b[0m\u001b[0;34m\u001b[0m\u001b[0m\n\u001b[1;32m    359\u001b[0m         \u001b[0mOutput\u001b[0m\u001b[0;34m.\u001b[0m\u001b[0mSTRING\u001b[0m\u001b[0;34m:\u001b[0m \u001b[0;32mlambda\u001b[0m\u001b[0;34m:\u001b[0m \u001b[0mrun_and_get_output\u001b[0m\u001b[0;34m(\u001b[0m\u001b[0;34m*\u001b[0m\u001b[0margs\u001b[0m\u001b[0;34m)\u001b[0m\u001b[0;34m,\u001b[0m\u001b[0;34m\u001b[0m\u001b[0;34m\u001b[0m\u001b[0m\n\u001b[0;32m--> 360\u001b[0;31m     }[output_type]()\n\u001b[0m\u001b[1;32m    361\u001b[0m \u001b[0;34m\u001b[0m\u001b[0m\n\u001b[1;32m    362\u001b[0m \u001b[0;34m\u001b[0m\u001b[0m\n",
      "\u001b[0;32m~/anaconda3/lib/python3.7/site-packages/pytesseract/pytesseract.py\u001b[0m in \u001b[0;36m<lambda>\u001b[0;34m()\u001b[0m\n\u001b[1;32m    357\u001b[0m         \u001b[0mOutput\u001b[0m\u001b[0;34m.\u001b[0m\u001b[0mBYTES\u001b[0m\u001b[0;34m:\u001b[0m \u001b[0;32mlambda\u001b[0m\u001b[0;34m:\u001b[0m \u001b[0mrun_and_get_output\u001b[0m\u001b[0;34m(\u001b[0m\u001b[0;34m*\u001b[0m\u001b[0;34m(\u001b[0m\u001b[0margs\u001b[0m \u001b[0;34m+\u001b[0m \u001b[0;34m[\u001b[0m\u001b[0;32mTrue\u001b[0m\u001b[0;34m]\u001b[0m\u001b[0;34m)\u001b[0m\u001b[0;34m)\u001b[0m\u001b[0;34m,\u001b[0m\u001b[0;34m\u001b[0m\u001b[0;34m\u001b[0m\u001b[0m\n\u001b[1;32m    358\u001b[0m         \u001b[0mOutput\u001b[0m\u001b[0;34m.\u001b[0m\u001b[0mDICT\u001b[0m\u001b[0;34m:\u001b[0m \u001b[0;32mlambda\u001b[0m\u001b[0;34m:\u001b[0m \u001b[0;34m{\u001b[0m\u001b[0;34m'text'\u001b[0m\u001b[0;34m:\u001b[0m \u001b[0mrun_and_get_output\u001b[0m\u001b[0;34m(\u001b[0m\u001b[0;34m*\u001b[0m\u001b[0margs\u001b[0m\u001b[0;34m)\u001b[0m\u001b[0;34m}\u001b[0m\u001b[0;34m,\u001b[0m\u001b[0;34m\u001b[0m\u001b[0;34m\u001b[0m\u001b[0m\n\u001b[0;32m--> 359\u001b[0;31m         \u001b[0mOutput\u001b[0m\u001b[0;34m.\u001b[0m\u001b[0mSTRING\u001b[0m\u001b[0;34m:\u001b[0m \u001b[0;32mlambda\u001b[0m\u001b[0;34m:\u001b[0m \u001b[0mrun_and_get_output\u001b[0m\u001b[0;34m(\u001b[0m\u001b[0;34m*\u001b[0m\u001b[0margs\u001b[0m\u001b[0;34m)\u001b[0m\u001b[0;34m,\u001b[0m\u001b[0;34m\u001b[0m\u001b[0;34m\u001b[0m\u001b[0m\n\u001b[0m\u001b[1;32m    360\u001b[0m     }[output_type]()\n\u001b[1;32m    361\u001b[0m \u001b[0;34m\u001b[0m\u001b[0m\n",
      "\u001b[0;32m~/anaconda3/lib/python3.7/site-packages/pytesseract/pytesseract.py\u001b[0m in \u001b[0;36mrun_and_get_output\u001b[0;34m(image, extension, lang, config, nice, timeout, return_bytes)\u001b[0m\n\u001b[1;32m    268\u001b[0m         }\n\u001b[1;32m    269\u001b[0m \u001b[0;34m\u001b[0m\u001b[0m\n\u001b[0;32m--> 270\u001b[0;31m         \u001b[0mrun_tesseract\u001b[0m\u001b[0;34m(\u001b[0m\u001b[0;34m**\u001b[0m\u001b[0mkwargs\u001b[0m\u001b[0;34m)\u001b[0m\u001b[0;34m\u001b[0m\u001b[0;34m\u001b[0m\u001b[0m\n\u001b[0m\u001b[1;32m    271\u001b[0m         \u001b[0mfilename\u001b[0m \u001b[0;34m=\u001b[0m \u001b[0mkwargs\u001b[0m\u001b[0;34m[\u001b[0m\u001b[0;34m'output_filename_base'\u001b[0m\u001b[0;34m]\u001b[0m \u001b[0;34m+\u001b[0m \u001b[0mextsep\u001b[0m \u001b[0;34m+\u001b[0m \u001b[0mextension\u001b[0m\u001b[0;34m\u001b[0m\u001b[0;34m\u001b[0m\u001b[0m\n\u001b[1;32m    272\u001b[0m         \u001b[0;32mwith\u001b[0m \u001b[0mopen\u001b[0m\u001b[0;34m(\u001b[0m\u001b[0mfilename\u001b[0m\u001b[0;34m,\u001b[0m \u001b[0;34m'rb'\u001b[0m\u001b[0;34m)\u001b[0m \u001b[0;32mas\u001b[0m \u001b[0moutput_file\u001b[0m\u001b[0;34m:\u001b[0m\u001b[0;34m\u001b[0m\u001b[0;34m\u001b[0m\u001b[0m\n",
      "\u001b[0;32m~/anaconda3/lib/python3.7/site-packages/pytesseract/pytesseract.py\u001b[0m in \u001b[0;36mrun_tesseract\u001b[0;34m(input_filename, output_filename_base, extension, lang, config, nice, timeout)\u001b[0m\n\u001b[1;32m    242\u001b[0m         \u001b[0;32mraise\u001b[0m \u001b[0mTesseractNotFoundError\u001b[0m\u001b[0;34m(\u001b[0m\u001b[0;34m)\u001b[0m\u001b[0;34m\u001b[0m\u001b[0;34m\u001b[0m\u001b[0m\n\u001b[1;32m    243\u001b[0m \u001b[0;34m\u001b[0m\u001b[0m\n\u001b[0;32m--> 244\u001b[0;31m     \u001b[0;32mwith\u001b[0m \u001b[0mtimeout_manager\u001b[0m\u001b[0;34m(\u001b[0m\u001b[0mproc\u001b[0m\u001b[0;34m,\u001b[0m \u001b[0mtimeout\u001b[0m\u001b[0;34m)\u001b[0m \u001b[0;32mas\u001b[0m \u001b[0merror_string\u001b[0m\u001b[0;34m:\u001b[0m\u001b[0;34m\u001b[0m\u001b[0;34m\u001b[0m\u001b[0m\n\u001b[0m\u001b[1;32m    245\u001b[0m         \u001b[0;32mif\u001b[0m \u001b[0mproc\u001b[0m\u001b[0;34m.\u001b[0m\u001b[0mreturncode\u001b[0m\u001b[0;34m:\u001b[0m\u001b[0;34m\u001b[0m\u001b[0;34m\u001b[0m\u001b[0m\n\u001b[1;32m    246\u001b[0m             \u001b[0;32mraise\u001b[0m \u001b[0mTesseractError\u001b[0m\u001b[0;34m(\u001b[0m\u001b[0mproc\u001b[0m\u001b[0;34m.\u001b[0m\u001b[0mreturncode\u001b[0m\u001b[0;34m,\u001b[0m \u001b[0mget_errors\u001b[0m\u001b[0;34m(\u001b[0m\u001b[0merror_string\u001b[0m\u001b[0;34m)\u001b[0m\u001b[0;34m)\u001b[0m\u001b[0;34m\u001b[0m\u001b[0;34m\u001b[0m\u001b[0m\n",
      "\u001b[0;32m~/anaconda3/lib/python3.7/contextlib.py\u001b[0m in \u001b[0;36m__enter__\u001b[0;34m(self)\u001b[0m\n\u001b[1;32m    110\u001b[0m         \u001b[0;32mdel\u001b[0m \u001b[0mself\u001b[0m\u001b[0;34m.\u001b[0m\u001b[0margs\u001b[0m\u001b[0;34m,\u001b[0m \u001b[0mself\u001b[0m\u001b[0;34m.\u001b[0m\u001b[0mkwds\u001b[0m\u001b[0;34m,\u001b[0m \u001b[0mself\u001b[0m\u001b[0;34m.\u001b[0m\u001b[0mfunc\u001b[0m\u001b[0;34m\u001b[0m\u001b[0;34m\u001b[0m\u001b[0m\n\u001b[1;32m    111\u001b[0m         \u001b[0;32mtry\u001b[0m\u001b[0;34m:\u001b[0m\u001b[0;34m\u001b[0m\u001b[0;34m\u001b[0m\u001b[0m\n\u001b[0;32m--> 112\u001b[0;31m             \u001b[0;32mreturn\u001b[0m \u001b[0mnext\u001b[0m\u001b[0;34m(\u001b[0m\u001b[0mself\u001b[0m\u001b[0;34m.\u001b[0m\u001b[0mgen\u001b[0m\u001b[0;34m)\u001b[0m\u001b[0;34m\u001b[0m\u001b[0;34m\u001b[0m\u001b[0m\n\u001b[0m\u001b[1;32m    113\u001b[0m         \u001b[0;32mexcept\u001b[0m \u001b[0mStopIteration\u001b[0m\u001b[0;34m:\u001b[0m\u001b[0;34m\u001b[0m\u001b[0;34m\u001b[0m\u001b[0m\n\u001b[1;32m    114\u001b[0m             \u001b[0;32mraise\u001b[0m \u001b[0mRuntimeError\u001b[0m\u001b[0;34m(\u001b[0m\u001b[0;34m\"generator didn't yield\"\u001b[0m\u001b[0;34m)\u001b[0m \u001b[0;32mfrom\u001b[0m \u001b[0;32mNone\u001b[0m\u001b[0;34m\u001b[0m\u001b[0;34m\u001b[0m\u001b[0m\n",
      "\u001b[0;32m~/anaconda3/lib/python3.7/site-packages/pytesseract/pytesseract.py\u001b[0m in \u001b[0;36mtimeout_manager\u001b[0;34m(proc, seconds)\u001b[0m\n\u001b[1;32m     99\u001b[0m     \u001b[0;32mtry\u001b[0m\u001b[0;34m:\u001b[0m\u001b[0;34m\u001b[0m\u001b[0;34m\u001b[0m\u001b[0m\n\u001b[1;32m    100\u001b[0m         \u001b[0;32mif\u001b[0m \u001b[0;32mnot\u001b[0m \u001b[0mseconds\u001b[0m\u001b[0;34m:\u001b[0m\u001b[0;34m\u001b[0m\u001b[0;34m\u001b[0m\u001b[0m\n\u001b[0;32m--> 101\u001b[0;31m             \u001b[0;32myield\u001b[0m \u001b[0mproc\u001b[0m\u001b[0;34m.\u001b[0m\u001b[0mcommunicate\u001b[0m\u001b[0;34m(\u001b[0m\u001b[0;34m)\u001b[0m\u001b[0;34m[\u001b[0m\u001b[0;36m1\u001b[0m\u001b[0;34m]\u001b[0m\u001b[0;34m\u001b[0m\u001b[0;34m\u001b[0m\u001b[0m\n\u001b[0m\u001b[1;32m    102\u001b[0m             \u001b[0;32mreturn\u001b[0m\u001b[0;34m\u001b[0m\u001b[0;34m\u001b[0m\u001b[0m\n\u001b[1;32m    103\u001b[0m \u001b[0;34m\u001b[0m\u001b[0m\n",
      "\u001b[0;32m~/anaconda3/lib/python3.7/subprocess.py\u001b[0m in \u001b[0;36mcommunicate\u001b[0;34m(self, input, timeout)\u001b[0m\n\u001b[1;32m    931\u001b[0m \u001b[0;34m\u001b[0m\u001b[0m\n\u001b[1;32m    932\u001b[0m             \u001b[0;32mtry\u001b[0m\u001b[0;34m:\u001b[0m\u001b[0;34m\u001b[0m\u001b[0;34m\u001b[0m\u001b[0m\n\u001b[0;32m--> 933\u001b[0;31m                 \u001b[0mstdout\u001b[0m\u001b[0;34m,\u001b[0m \u001b[0mstderr\u001b[0m \u001b[0;34m=\u001b[0m \u001b[0mself\u001b[0m\u001b[0;34m.\u001b[0m\u001b[0m_communicate\u001b[0m\u001b[0;34m(\u001b[0m\u001b[0minput\u001b[0m\u001b[0;34m,\u001b[0m \u001b[0mendtime\u001b[0m\u001b[0;34m,\u001b[0m \u001b[0mtimeout\u001b[0m\u001b[0;34m)\u001b[0m\u001b[0;34m\u001b[0m\u001b[0;34m\u001b[0m\u001b[0m\n\u001b[0m\u001b[1;32m    934\u001b[0m             \u001b[0;32mexcept\u001b[0m \u001b[0mKeyboardInterrupt\u001b[0m\u001b[0;34m:\u001b[0m\u001b[0;34m\u001b[0m\u001b[0;34m\u001b[0m\u001b[0m\n\u001b[1;32m    935\u001b[0m                 \u001b[0;31m# https://bugs.python.org/issue25942\u001b[0m\u001b[0;34m\u001b[0m\u001b[0;34m\u001b[0m\u001b[0;34m\u001b[0m\u001b[0m\n",
      "\u001b[0;32m~/anaconda3/lib/python3.7/subprocess.py\u001b[0m in \u001b[0;36m_communicate\u001b[0;34m(self, input, endtime, orig_timeout)\u001b[0m\n\u001b[1;32m   1673\u001b[0m                         \u001b[0;32mraise\u001b[0m \u001b[0mTimeoutExpired\u001b[0m\u001b[0;34m(\u001b[0m\u001b[0mself\u001b[0m\u001b[0;34m.\u001b[0m\u001b[0margs\u001b[0m\u001b[0;34m,\u001b[0m \u001b[0morig_timeout\u001b[0m\u001b[0;34m)\u001b[0m\u001b[0;34m\u001b[0m\u001b[0;34m\u001b[0m\u001b[0m\n\u001b[1;32m   1674\u001b[0m \u001b[0;34m\u001b[0m\u001b[0m\n\u001b[0;32m-> 1675\u001b[0;31m                     \u001b[0mready\u001b[0m \u001b[0;34m=\u001b[0m \u001b[0mselector\u001b[0m\u001b[0;34m.\u001b[0m\u001b[0mselect\u001b[0m\u001b[0;34m(\u001b[0m\u001b[0mtimeout\u001b[0m\u001b[0;34m)\u001b[0m\u001b[0;34m\u001b[0m\u001b[0;34m\u001b[0m\u001b[0m\n\u001b[0m\u001b[1;32m   1676\u001b[0m                     \u001b[0mself\u001b[0m\u001b[0;34m.\u001b[0m\u001b[0m_check_timeout\u001b[0m\u001b[0;34m(\u001b[0m\u001b[0mendtime\u001b[0m\u001b[0;34m,\u001b[0m \u001b[0morig_timeout\u001b[0m\u001b[0;34m)\u001b[0m\u001b[0;34m\u001b[0m\u001b[0;34m\u001b[0m\u001b[0m\n\u001b[1;32m   1677\u001b[0m \u001b[0;34m\u001b[0m\u001b[0m\n",
      "\u001b[0;32m~/anaconda3/lib/python3.7/selectors.py\u001b[0m in \u001b[0;36mselect\u001b[0;34m(self, timeout)\u001b[0m\n\u001b[1;32m    413\u001b[0m         \u001b[0mready\u001b[0m \u001b[0;34m=\u001b[0m \u001b[0;34m[\u001b[0m\u001b[0;34m]\u001b[0m\u001b[0;34m\u001b[0m\u001b[0;34m\u001b[0m\u001b[0m\n\u001b[1;32m    414\u001b[0m         \u001b[0;32mtry\u001b[0m\u001b[0;34m:\u001b[0m\u001b[0;34m\u001b[0m\u001b[0;34m\u001b[0m\u001b[0m\n\u001b[0;32m--> 415\u001b[0;31m             \u001b[0mfd_event_list\u001b[0m \u001b[0;34m=\u001b[0m \u001b[0mself\u001b[0m\u001b[0;34m.\u001b[0m\u001b[0m_selector\u001b[0m\u001b[0;34m.\u001b[0m\u001b[0mpoll\u001b[0m\u001b[0;34m(\u001b[0m\u001b[0mtimeout\u001b[0m\u001b[0;34m)\u001b[0m\u001b[0;34m\u001b[0m\u001b[0;34m\u001b[0m\u001b[0m\n\u001b[0m\u001b[1;32m    416\u001b[0m         \u001b[0;32mexcept\u001b[0m \u001b[0mInterruptedError\u001b[0m\u001b[0;34m:\u001b[0m\u001b[0;34m\u001b[0m\u001b[0;34m\u001b[0m\u001b[0m\n\u001b[1;32m    417\u001b[0m             \u001b[0;32mreturn\u001b[0m \u001b[0mready\u001b[0m\u001b[0;34m\u001b[0m\u001b[0;34m\u001b[0m\u001b[0m\n",
      "\u001b[0;31mKeyboardInterrupt\u001b[0m: "
     ]
    }
   ],
   "source": [
    "img2txt(npa_pathes, 'text_npa')"
   ]
  },
  {
   "cell_type": "code",
   "execution_count": 107,
   "metadata": {},
   "outputs": [],
   "source": [
    "from sklearn.feature_extraction.text import CountVectorizer\n",
    "import re"
   ]
  },
  {
   "cell_type": "code",
   "execution_count": 118,
   "metadata": {},
   "outputs": [],
   "source": [
    "test_txt = '0008'\n",
    "# Open a file: file\n",
    "file = open(test_txt,mode='r')\n",
    " \n",
    "# read all lines at once\n",
    "all_of_it = file.read()\n",
    " \n",
    "# close the file\n",
    "file.close()"
   ]
  },
  {
   "cell_type": "code",
   "execution_count": 123,
   "metadata": {},
   "outputs": [
    {
     "name": "stdout",
     "output_type": "stream",
     "text": [
      "Федеральное агентство по образованию\n",
      "Сибирский федеральный университет\n",
      "\n",
      "АНАЛИЗ ТРЕБОВАНИЙ К\n",
      "ИНФОРМАЦИОННЫМ СИСТЕМАМ\n",
      "\n",
      "Конспект лекций\n",
      "\n",
      "Маглинец Ю.А.\n",
      "\n",
      "Красноярск\n",
      "СФУ\n",
      "2007\n"
     ]
    }
   ],
   "source": [
    "a = pytesseract.image_to_string(image,config = usr_config)\n",
    "print(a)"
   ]
  },
  {
   "cell_type": "code",
   "execution_count": 119,
   "metadata": {},
   "outputs": [],
   "source": [
    "a = all_of_it"
   ]
  },
  {
   "cell_type": "code",
   "execution_count": 124,
   "metadata": {},
   "outputs": [
    {
     "name": "stdout",
     "output_type": "stream",
     "text": [
      "['Федеральное', 'агентство', 'по', 'образованию', 'Сибирский', 'федеральный', 'университет', 'АНАЛИЗ', 'ТРЕБОВАНИЙ', 'К', 'ИНФОРМАЦИОННЫМ', 'СИСТЕМАМ', 'Конспект', 'лекций', 'Маглинец', 'Ю', 'А', 'Красноярск', 'СФУ', '2007']\n"
     ]
    }
   ],
   "source": [
    "wordList = re.sub(\"[^\\w]\", \" \",  a).split()\n",
    "print(wordList)"
   ]
  },
  {
   "cell_type": "code",
   "execution_count": 125,
   "metadata": {},
   "outputs": [
    {
     "name": "stdout",
     "output_type": "stream",
     "text": [
      "['2007', 'агентство', 'анализ', 'информационным', 'конспект', 'красноярск', 'лекций', 'маглинец', 'образованию', 'по', 'сибирский', 'системам', 'сфу', 'требований', 'университет', 'федеральное', 'федеральный']\n"
     ]
    }
   ],
   "source": [
    "vectorizer = CountVectorizer()\n",
    "X = vectorizer.fit_transform(wordList)\n",
    "print(vectorizer.get_feature_names())"
   ]
  },
  {
   "cell_type": "code",
   "execution_count": 130,
   "metadata": {},
   "outputs": [
    {
     "name": "stdout",
     "output_type": "stream",
     "text": [
      "(20, 17)\n",
      "  (0, 15)\t1\n",
      "  (1, 1)\t1\n",
      "  (2, 9)\t1\n",
      "  (3, 8)\t1\n",
      "  (4, 10)\t1\n",
      "  (5, 16)\t1\n",
      "  (6, 14)\t1\n",
      "  (7, 2)\t1\n",
      "  (8, 13)\t1\n",
      "  (10, 3)\t1\n",
      "  (11, 11)\t1\n",
      "  (12, 4)\t1\n",
      "  (13, 6)\t1\n",
      "  (14, 7)\t1\n",
      "  (17, 5)\t1\n",
      "  (18, 12)\t1\n",
      "  (19, 0)\t1\n",
      "[[0 0 0 0 0 0 0 0 0 0 0 0 0 0 0 1 0]\n",
      " [0 1 0 0 0 0 0 0 0 0 0 0 0 0 0 0 0]\n",
      " [0 0 0 0 0 0 0 0 0 1 0 0 0 0 0 0 0]\n",
      " [0 0 0 0 0 0 0 0 1 0 0 0 0 0 0 0 0]\n",
      " [0 0 0 0 0 0 0 0 0 0 1 0 0 0 0 0 0]\n",
      " [0 0 0 0 0 0 0 0 0 0 0 0 0 0 0 0 1]\n",
      " [0 0 0 0 0 0 0 0 0 0 0 0 0 0 1 0 0]\n",
      " [0 0 1 0 0 0 0 0 0 0 0 0 0 0 0 0 0]\n",
      " [0 0 0 0 0 0 0 0 0 0 0 0 0 1 0 0 0]\n",
      " [0 0 0 0 0 0 0 0 0 0 0 0 0 0 0 0 0]\n",
      " [0 0 0 1 0 0 0 0 0 0 0 0 0 0 0 0 0]\n",
      " [0 0 0 0 0 0 0 0 0 0 0 1 0 0 0 0 0]\n",
      " [0 0 0 0 1 0 0 0 0 0 0 0 0 0 0 0 0]\n",
      " [0 0 0 0 0 0 1 0 0 0 0 0 0 0 0 0 0]\n",
      " [0 0 0 0 0 0 0 1 0 0 0 0 0 0 0 0 0]\n",
      " [0 0 0 0 0 0 0 0 0 0 0 0 0 0 0 0 0]\n",
      " [0 0 0 0 0 0 0 0 0 0 0 0 0 0 0 0 0]\n",
      " [0 0 0 0 0 1 0 0 0 0 0 0 0 0 0 0 0]\n",
      " [0 0 0 0 0 0 0 0 0 0 0 0 1 0 0 0 0]\n",
      " [1 0 0 0 0 0 0 0 0 0 0 0 0 0 0 0 0]]\n"
     ]
    }
   ],
   "source": [
    "print(X.shape)\n",
    "print(X)\n",
    "print(X.toarray())"
   ]
  },
  {
   "cell_type": "code",
   "execution_count": 133,
   "metadata": {},
   "outputs": [],
   "source": [
    "d = vectorizer.vocabulary_"
   ]
  },
  {
   "cell_type": "code",
   "execution_count": 127,
   "metadata": {},
   "outputs": [
    {
     "name": "stdout",
     "output_type": "stream",
     "text": [
      "['ОПРЕДЕЛЕНИЕ', 'И', 'ОБОСНОВАНИЕ', 'НАЧАЛЬНОЙ', 'МАКСИМАЛЬНОЙ', 'ЦЕНЫ', 'ДОГОВОРА', 'В', 'ТОМ', 'ЧИСЛЕ', 'ЦЕНЫ', 'ДОГОВОРА', 'ЗАКЛЮЧАЕМОГО', 'С', 'ЕДИНСТВЕННЫМ', 'ПОСТАВЩИКОМ', 'ПОДРЯДЧИКОМ', 'ИСПОЛНИТЕЛЕМ', 'МЕТОДОМ', 'СОПОСТАВИМЫХ', 'РЫНОЧНЫХ', 'ЦЕН', 'БАЗОВЫЙ', 'МЕТОД', 'Объем', 'годовой', 'Объем', 'годовой', 'Цена', 'Стоимость', 'Стоимость', 'закупки', 'закупки', 'предыдущего', 'закупки', 'закупки', 'НМЦ', 'за', 'ед', 'руб', 'без', 'п', 'Код', 'ТМЦ', 'Наименование', 'Ед', 'изм', 'прелыдущего', 'планируемого', 'пернода', 'руб', 'предыдущего', 'планируемого', 'НДС', 'ерибла', 'ериола', 'без', 'НДС', 'периода', 'руб', 'без', 'периода', 'руб', 'без', 'НДС', 'НДС', '1', '1301111012', 'АМОРТИЗАТОР', 'ШТ', '26', '26', '8', '103', '94', '8', '103', '94', '317', '92', '2', '3011101201', 'АМОРТИЗАТОР', '13', '13', '3', '101', '15', '3', '101', '15', '243', '32', '3', '1ЯБ7090017', 'МАСЛОРАСШИРИТЕЛЬ', '9', '9', '4', '017', '96', '4', '017', '96', '455', '37', '4', '1ЯБ7090104', 'МАСЛОРАСШИРИТЕЛЬ', '224', '224', '81919', '04', '81919', '04', '373', '02', '5', '1ЯБ7800322', '14', '14', '686', '98', '686', '98', '50', '05', '6', 'ЯБ8687015', '108', '108', '14', '043', '24', '14', '043', '24', '132', '63', '7', '1', 'ЯБ8687021', '55', '416', '62', '55', '416', '62', '204', '06', '8', '1ЯБ8687022', '74', '086', '00', '74', '086', '00', '222', '26', '9', 'ЯБ8687023', '5', '185', '81', '5', '185', '81', '229', '98', '10', 'ЯБ8687030', '98', '984', '16', '98', '984', '16', '233', '71', 'И', '1Я5868703001', '61', '395', '84', '61', '395', '84', '230', '23', '12', 'ЯБ868703002', '6', '653', '47', '6', '653', '47', '234', '02', '13', 'ЯБ8687031', '376', '486', '47', '153', '299', '88', '255', '50', '14', 'ЯБ868703101', '4', '261', '39', '4', '261', '39', '255', '68', '15', 'ЯБ9314007', '49', '885', '29', '40', '931', '52', '62', '13', '16', 'СРО07090109', 'МАСЛОРАСШИРИТЕЛЬ', '4', '022', '81', '4', '022', '81', '373', '02', '17', 'СР147090110', 'МАСЛОРАСШИРИТЕЛЬ', '1097', '13', '1097', '13', '373', '02', '18', 'СР148687103', '687', '39', '687', '39', '233', '71', '19', 'СРО08687105', '13', '776', '95', '10', '019', '60', '255', '50', '20', 'СРО0868710501', '1580', '04', '1', '128', '60', '230', '23', '21', 'СРО08687106', 'МАНЖЕТА', 'ШТ', 'И', '10', '217', '90', '2396', '90', '2', '179', '00', '222', '26', 'Итого', 'стоимость', 'закупки', 'в', 'ценах', 'предыдущего', 'периода', 'руб', 'без', 'НДС', 'о', '867', '788', '58', '631', '221', '53', 'Индекс', 'изменения', '2019', '2018', '1', '020', 'ценообразования', 'АК', 'АЛРОСА', 'АО', 'на', '2019', 'год', 'НМЦ', 'договора', 'НДС', '20', 'руб', '128', '769', '19', 'руб', 'с', 'НДС', '773', '000', '00']\n"
     ]
    }
   ],
   "source": [
    "wordList2 = re.sub(\"[^\\w]\", \" \",  all_of_it).split()\n",
    "print(wordList2)"
   ]
  },
  {
   "cell_type": "code",
   "execution_count": 141,
   "metadata": {},
   "outputs": [
    {
     "data": {
      "text/plain": [
       "{'федеральное': 15,\n",
       " 'агентство': 1,\n",
       " 'по': 9,\n",
       " 'образованию': 8,\n",
       " 'сибирский': 10,\n",
       " 'федеральный': 16,\n",
       " 'университет': 14,\n",
       " 'анализ': 2,\n",
       " 'требований': 13,\n",
       " 'информационным': 3,\n",
       " 'системам': 11,\n",
       " 'конспект': 4,\n",
       " 'лекций': 6,\n",
       " 'маглинец': 7,\n",
       " 'красноярск': 5,\n",
       " 'сфу': 12,\n",
       " '2007': 0}"
      ]
     },
     "execution_count": 141,
     "metadata": {},
     "output_type": "execute_result"
    }
   ],
   "source": [
    "d"
   ]
  },
  {
   "cell_type": "code",
   "execution_count": 137,
   "metadata": {},
   "outputs": [
    {
     "name": "stdout",
     "output_type": "stream",
     "text": [
      "dict_keys(['федеральное', 'агентство', 'по', 'образованию', 'сибирский', 'федеральный', 'университет', 'анализ', 'требований', 'информационным', 'системам', 'конспект', 'лекций', 'маглинец', 'красноярск', 'сфу', '2007'])\n"
     ]
    }
   ],
   "source": [
    "print(d.keys())"
   ]
  },
  {
   "cell_type": "code",
   "execution_count": 140,
   "metadata": {},
   "outputs": [
    {
     "data": {
      "text/plain": [
       "1"
      ]
     },
     "execution_count": 140,
     "metadata": {},
     "output_type": "execute_result"
    }
   ],
   "source": [
    "d['агентство']"
   ]
  },
  {
   "cell_type": "code",
   "execution_count": 144,
   "metadata": {},
   "outputs": [
    {
     "name": "stdout",
     "output_type": "stream",
     "text": [
      "  (0, 15)\t1\n"
     ]
    }
   ],
   "source": [
    "print(X[0])"
   ]
  },
  {
   "cell_type": "code",
   "execution_count": null,
   "metadata": {},
   "outputs": [],
   "source": []
  }
 ],
 "metadata": {
  "kernelspec": {
   "display_name": "Python 3",
   "language": "python",
   "name": "python3"
  },
  "language_info": {
   "codemirror_mode": {
    "name": "ipython",
    "version": 3
   },
   "file_extension": ".py",
   "mimetype": "text/x-python",
   "name": "python",
   "nbconvert_exporter": "python",
   "pygments_lexer": "ipython3",
   "version": "3.7.1"
  }
 },
 "nbformat": 4,
 "nbformat_minor": 2
}
